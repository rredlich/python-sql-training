{
 "cells": [
  {
   "cell_type": "markdown",
   "metadata": {},
   "source": [
    "# Basic SQL queries\n",
    "This notebook is based on the Intro to SQL tutorial by Kaggle. "
   ]
  },
  {
   "cell_type": "code",
   "execution_count": 1,
   "metadata": {},
   "outputs": [
    {
     "name": "stdout",
     "output_type": "stream",
     "text": [
      "2.6.0\n",
      "3.40.1\n"
     ]
    }
   ],
   "source": [
    "import sqlite3\n",
    "\n",
    "print(sqlite3.version)\n",
    "print(sqlite3.sqlite_version)"
   ]
  },
  {
   "cell_type": "code",
   "execution_count": 2,
   "metadata": {},
   "outputs": [],
   "source": [
    "# Open or create database file\n",
    "db = sqlite3.connect('./data/mydata_03.db')\n",
    "\n",
    "# Create a cursor to execute SQL statements\n",
    "cursor = db.cursor()\n",
    "\n",
    "cursor.execute('''CREATE TABLE IF NOT EXISTS pet_records(id INTEGER PRIMARY KEY, \n",
    "                   name TEXT, animal TEXT, date TEXT)\n",
    "''')\n",
    "db.commit()"
   ]
  },
  {
   "cell_type": "code",
   "execution_count": 3,
   "metadata": {},
   "outputs": [],
   "source": [
    "# Insert the data\n",
    "cursor.execute('''INSERT INTO pet_records values (1, 'Francisco Perez', 'Gato', '2023-12-23')''')\n",
    "cursor.execute('''INSERT INTO pet_records values (2, 'Diego Abarca', 'Gato', '2022-01-13')''')\n",
    "cursor.execute('''INSERT INTO pet_records values (3, 'Jorge Barra', 'Perro', '2024-01-07')''')\n",
    "cursor.execute('''INSERT INTO pet_records values (4, 'Carlos Rodriguez', 'Conejo', '2023-08-18')''')\n",
    "\n",
    "db.commit()\n"
   ]
  },
  {
   "cell_type": "markdown",
   "metadata": {},
   "source": [
    "## Group By, Having & Count\n",
    "### Aggregate functions\n",
    "COUNT() returns a count of things. If you pass it the name of a column, it will return the number of entries in that column.\n",
    "\n",
    "Other examples of aggregate functions include SUM(), AVG(), MIN(), and MAX()."
   ]
  },
  {
   "cell_type": "code",
   "execution_count": 4,
   "metadata": {},
   "outputs": [
    {
     "data": {
      "text/html": [
       "<div>\n",
       "<style scoped>\n",
       "    .dataframe tbody tr th:only-of-type {\n",
       "        vertical-align: middle;\n",
       "    }\n",
       "\n",
       "    .dataframe tbody tr th {\n",
       "        vertical-align: top;\n",
       "    }\n",
       "\n",
       "    .dataframe thead th {\n",
       "        text-align: right;\n",
       "    }\n",
       "</style>\n",
       "<table border=\"1\" class=\"dataframe\">\n",
       "  <thead>\n",
       "    <tr style=\"text-align: right;\">\n",
       "      <th></th>\n",
       "      <th>COUNT(id)</th>\n",
       "    </tr>\n",
       "  </thead>\n",
       "  <tbody>\n",
       "    <tr>\n",
       "      <th>0</th>\n",
       "      <td>4</td>\n",
       "    </tr>\n",
       "  </tbody>\n",
       "</table>\n",
       "</div>"
      ],
      "text/plain": [
       "   COUNT(id)\n",
       "0          4"
      ]
     },
     "execution_count": 4,
     "metadata": {},
     "output_type": "execute_result"
    }
   ],
   "source": [
    "import pandas as pd\n",
    "\n",
    "query = '''\n",
    "        SELECT COUNT(id)\n",
    "        FROM pet_records\n",
    "        '''\n",
    "\n",
    "query_df = pd.read_sql_query(query, db)\n",
    "query_df.head()"
   ]
  },
  {
   "cell_type": "markdown",
   "metadata": {},
   "source": [
    "### GROUP BY\n",
    "GROUP BY takes the name of one or more columns, and treats all rows with the same value in that column as a single group when you apply aggregate functions like COUNT().\n",
    "\n"
   ]
  },
  {
   "cell_type": "code",
   "execution_count": 5,
   "metadata": {},
   "outputs": [
    {
     "data": {
      "text/html": [
       "<div>\n",
       "<style scoped>\n",
       "    .dataframe tbody tr th:only-of-type {\n",
       "        vertical-align: middle;\n",
       "    }\n",
       "\n",
       "    .dataframe tbody tr th {\n",
       "        vertical-align: top;\n",
       "    }\n",
       "\n",
       "    .dataframe thead th {\n",
       "        text-align: right;\n",
       "    }\n",
       "</style>\n",
       "<table border=\"1\" class=\"dataframe\">\n",
       "  <thead>\n",
       "    <tr style=\"text-align: right;\">\n",
       "      <th></th>\n",
       "      <th>animal</th>\n",
       "      <th>COUNT(id)</th>\n",
       "    </tr>\n",
       "  </thead>\n",
       "  <tbody>\n",
       "    <tr>\n",
       "      <th>0</th>\n",
       "      <td>Conejo</td>\n",
       "      <td>1</td>\n",
       "    </tr>\n",
       "    <tr>\n",
       "      <th>1</th>\n",
       "      <td>Gato</td>\n",
       "      <td>2</td>\n",
       "    </tr>\n",
       "    <tr>\n",
       "      <th>2</th>\n",
       "      <td>Perro</td>\n",
       "      <td>1</td>\n",
       "    </tr>\n",
       "  </tbody>\n",
       "</table>\n",
       "</div>"
      ],
      "text/plain": [
       "   animal  COUNT(id)\n",
       "0  Conejo          1\n",
       "1    Gato          2\n",
       "2   Perro          1"
      ]
     },
     "execution_count": 5,
     "metadata": {},
     "output_type": "execute_result"
    }
   ],
   "source": [
    "query = '''\n",
    "        SELECT animal, COUNT(id)\n",
    "        FROM pet_records\n",
    "        GROUP BY animal\n",
    "        '''\n",
    "\n",
    "query_df = pd.read_sql_query(query, db)\n",
    "query_df.head()"
   ]
  },
  {
   "cell_type": "markdown",
   "metadata": {},
   "source": [
    "### GROUP BY ... HAVING\n",
    "HAVING is used in combination with GROUP BY to ignore groups that don't meet certain criteria.\n",
    "\n",
    "Also, you can change the name by adding AS after you specify the aggregation"
   ]
  },
  {
   "cell_type": "code",
   "execution_count": 6,
   "metadata": {},
   "outputs": [
    {
     "data": {
      "text/html": [
       "<div>\n",
       "<style scoped>\n",
       "    .dataframe tbody tr th:only-of-type {\n",
       "        vertical-align: middle;\n",
       "    }\n",
       "\n",
       "    .dataframe tbody tr th {\n",
       "        vertical-align: top;\n",
       "    }\n",
       "\n",
       "    .dataframe thead th {\n",
       "        text-align: right;\n",
       "    }\n",
       "</style>\n",
       "<table border=\"1\" class=\"dataframe\">\n",
       "  <thead>\n",
       "    <tr style=\"text-align: right;\">\n",
       "      <th></th>\n",
       "      <th>animal</th>\n",
       "      <th>num_animals</th>\n",
       "    </tr>\n",
       "  </thead>\n",
       "  <tbody>\n",
       "    <tr>\n",
       "      <th>0</th>\n",
       "      <td>Gato</td>\n",
       "      <td>2</td>\n",
       "    </tr>\n",
       "  </tbody>\n",
       "</table>\n",
       "</div>"
      ],
      "text/plain": [
       "  animal  num_animals\n",
       "0   Gato            2"
      ]
     },
     "execution_count": 6,
     "metadata": {},
     "output_type": "execute_result"
    }
   ],
   "source": [
    "query = '''\n",
    "        SELECT animal, COUNT(id) AS num_animals\n",
    "        FROM pet_records\n",
    "        GROUP BY animal\n",
    "        HAVING COUNT(id) > 1\n",
    "        '''\n",
    "\n",
    "query_df = pd.read_sql_query(query, db)\n",
    "query_df.head()"
   ]
  },
  {
   "cell_type": "markdown",
   "metadata": {},
   "source": [
    "### WHERE ... LIKE\n",
    "A WHERE clause can limit your results to rows with certain text using the LIKE feature.\n",
    "\n",
    "You can also use `%` as a \"wildcard\" for any number of characters."
   ]
  },
  {
   "cell_type": "code",
   "execution_count": 7,
   "metadata": {},
   "outputs": [
    {
     "name": "stdout",
     "output_type": "stream",
     "text": [
      "          name animal\n",
      "0  Jorge Barra  Perro\n",
      "\n",
      "\n",
      "              name animal\n",
      "0  Francisco Perez   Gato\n",
      "1     Diego Abarca   Gato\n"
     ]
    }
   ],
   "source": [
    "# You can filter by an specific text\n",
    "query = '''\n",
    "        SELECT name, animal\n",
    "        FROM pet_records\n",
    "        WHERE animal LIKE 'Perro'\n",
    "        '''\n",
    "\n",
    "query_df = pd.read_sql_query(query, db)\n",
    "print(query_df.head())\n",
    "print('\\n')\n",
    "\n",
    "# or use the % as a wildcard. In this case the word 'at' will also be in the result\n",
    "query = '''\n",
    "        SELECT name, animal\n",
    "        FROM pet_records\n",
    "        WHERE animal LIKE '%at%'\n",
    "        '''\n",
    "\n",
    "query_df = pd.read_sql_query(query, db)\n",
    "print(query_df.head())"
   ]
  },
  {
   "cell_type": "markdown",
   "metadata": {},
   "source": [
    "## Order by and Dates\n",
    "### ORDER BY\n",
    "ORDER BY is usually the last clause in your query, and it sorts the results returned by the rest of your query."
   ]
  },
  {
   "cell_type": "code",
   "execution_count": 8,
   "metadata": {},
   "outputs": [
    {
     "name": "stdout",
     "output_type": "stream",
     "text": [
      "   id              name  animal\n",
      "0   1   Francisco Perez    Gato\n",
      "1   2      Diego Abarca    Gato\n",
      "2   3       Jorge Barra   Perro\n",
      "3   4  Carlos Rodriguez  Conejo\n",
      "\n",
      "\n",
      "   id              name  animal\n",
      "0   4  Carlos Rodriguez  Conejo\n",
      "1   2      Diego Abarca    Gato\n",
      "2   1   Francisco Perez    Gato\n",
      "3   3       Jorge Barra   Perro\n",
      "\n",
      "\n",
      "   id              name  animal\n",
      "0   3       Jorge Barra   Perro\n",
      "1   1   Francisco Perez    Gato\n",
      "2   2      Diego Abarca    Gato\n",
      "3   4  Carlos Rodriguez  Conejo\n"
     ]
    }
   ],
   "source": [
    "# By default order is ascending\n",
    "query = '''\n",
    "        SELECT id, name, animal\n",
    "        FROM pet_records\n",
    "        ORDER BY id\n",
    "        '''\n",
    "\n",
    "query_df = pd.read_sql_query(query, db)\n",
    "print(query_df.head())\n",
    "print('\\n')\n",
    "\n",
    "# It also work on columns containing text\n",
    "query = '''\n",
    "        SELECT id, name, animal\n",
    "        FROM pet_records\n",
    "        ORDER BY name\n",
    "        '''\n",
    "\n",
    "query_df = pd.read_sql_query(query, db)\n",
    "print(query_df.head())\n",
    "print('\\n')\n",
    "\n",
    "# You can reverse the order using the DESC argument\n",
    "query = '''\n",
    "        SELECT id, name, animal\n",
    "        FROM pet_records\n",
    "        ORDER BY name DESC\n",
    "        '''\n",
    "\n",
    "query_df = pd.read_sql_query(query, db)\n",
    "print(query_df.head())"
   ]
  },
  {
   "cell_type": "markdown",
   "metadata": {},
   "source": [
    "## Dates\n",
    "### Extract day, month and year\n",
    "SQLite does not have a storage class set aside for storing dates and/or times. Instead, the built-in Date And Time Functions of SQLite are capable of storing dates and times as TEXT, REAL, or INTEGER values.\n",
    "\n",
    "In TEXT, the format follows the ISO8601 strings (\"YYYY-MM-DD HH:MM:SS.SSS\").\n",
    "\n",
    "In SQLite, we can use the strftime() function to return datetime values in our chosen format:\n",
    "\n",
    "%d &emsp; day of month: 00-31\n",
    "\n",
    "%e &emsp; day of month without leading zero: 0-31\n",
    "\n",
    "%f &emsp; fractional seconds: SS.SSS\n",
    "\n",
    "%F &emsp; ISO 8601 date: YYYY-MM-DD\n",
    "\n",
    "%H &emsp; hour: 00-24\n",
    "\n",
    "%I &emsp; hour for 12-hour clock: 01-12\n",
    "\n",
    "%j &emsp; day of year: 001-366\n",
    "\n",
    "%J &emsp; Julian day number (fractional)\n",
    "\n",
    "%k &emsp; hour without leading zero: 0-24\n",
    "\n",
    "%l &emsp; %I without leading zero: 1-12\n",
    "\n",
    "%m &emsp; month: 01-12\n",
    "\n",
    "%M &emsp; minute: 00-59\n",
    "\n",
    "%p &emsp; \"AM\" or \"PM\" depending on the hour\n",
    "\n",
    "%P &emsp; \"am\" or \"pm\" depending on the hour\n",
    "\n",
    "%R &emsp; ISO 8601 time: HH:MM\n",
    "\n",
    "%s &emsp; seconds since 1970-01-01\n",
    "\n",
    "%S &emsp; seconds: 00-59\n",
    "\n",
    "%T &emsp; ISO 8601 time: HH:MM:SS\n",
    "\n",
    "%u &emsp; day of week 1-7 with Monday==1\n",
    "\n",
    "%w &emsp; day of week 0-6 with Sunday==0\n",
    "\n",
    "%W &emsp; week of year: 00-53\n",
    "\n",
    "%Y &emsp; year: 0000-9999"
   ]
  },
  {
   "cell_type": "code",
   "execution_count": 9,
   "metadata": {},
   "outputs": [
    {
     "name": "stdout",
     "output_type": "stream",
     "text": [
      "               name day month  year\n",
      "0   Francisco Perez  23    12  2023\n",
      "1      Diego Abarca  13    01  2022\n",
      "2       Jorge Barra  07    01  2024\n",
      "3  Carlos Rodriguez  18    08  2023\n",
      "\n",
      "\n",
      "               name weekday\n",
      "0   Francisco Perez       6\n",
      "1      Diego Abarca       4\n",
      "2       Jorge Barra       0\n",
      "3  Carlos Rodriguez       5\n"
     ]
    }
   ],
   "source": [
    "query = '''\n",
    "        SELECT name,\n",
    "            strftime('%d', date) AS \"day\",\n",
    "            strftime('%m', date) AS \"month\",\n",
    "            strftime('%Y', date) AS \"year\"\n",
    "        FROM pet_records\n",
    "        '''\n",
    "\n",
    "query_df = pd.read_sql_query(query, db)\n",
    "print(query_df.head())\n",
    "print('\\n')\n",
    "\n",
    "# Extract the day of the week using %u. It outputs a number from 1-7 with Monday==1\n",
    "query = '''\n",
    "        SELECT name,\n",
    "            strftime('%w', date) AS \"weekday\"\n",
    "        FROM pet_records\n",
    "        '''\n",
    "\n",
    "query_df = pd.read_sql_query(query, db)\n",
    "print(query_df.head())\n"
   ]
  },
  {
   "cell_type": "markdown",
   "metadata": {},
   "source": [
    "## As & With\n",
    "Organize your query for better readability. This becomes especially important for complex queries.\n",
    "\n",
    "### WITH ... AS\n",
    "A common table expression (or CTE) is a temporary table that you return within your query. CTEs are helpful for splitting your queries into readable chunks, and you can write queries against them."
   ]
  },
  {
   "cell_type": "code",
   "execution_count": 10,
   "metadata": {},
   "outputs": [
    {
     "name": "stdout",
     "output_type": "stream",
     "text": [
      "          name\n",
      "0  Jorge Barra\n"
     ]
    }
   ],
   "source": [
    "# Get the owner name of young dogs (born on 2023+)\n",
    "query = '''\n",
    "        WITH young_pets AS\n",
    "        (\n",
    "            SELECT id, name, animal\n",
    "            FROM pet_records\n",
    "            WHERE date > '2023-01-01'\n",
    "        )\n",
    "        SELECT name\n",
    "        FROM young_pets\n",
    "        WHERE animal = 'Perro'\n",
    "        '''\n",
    "\n",
    "query_df = pd.read_sql_query(query, db)\n",
    "print(query_df.head())\n"
   ]
  },
  {
   "cell_type": "markdown",
   "metadata": {},
   "source": [
    "## Joining Data\n",
    "### JOIN\n",
    "Using JOIN, we can write a query to create a table, combining information from both tables by matching rows.\n",
    "\n",
    "The type of JOIN we're using is called an INNER JOIN. That means that a row will only be put in the final output table if the value in the columns where in both the tables you're joining."
   ]
  },
  {
   "cell_type": "code",
   "execution_count": 11,
   "metadata": {},
   "outputs": [],
   "source": [
    "cursor.execute('''CREATE TABLE IF NOT EXISTS owners(id INTEGER PRIMARY KEY, \n",
    "                   name TEXT, pet_id INTEGER)\n",
    "''')\n",
    "cursor.execute('''INSERT INTO owners values (1, 'Francisco Perez', 1)''')\n",
    "cursor.execute('''INSERT INTO owners values (2, 'Diego Abarca', 2)''')\n",
    "cursor.execute('''INSERT INTO owners values (3, 'Jorge Barra', 4)''')\n",
    "cursor.execute('''INSERT INTO owners values (4, 'Carlos Rodriguez', 3)''')\n",
    "\n",
    "cursor.execute('''CREATE TABLE IF NOT EXISTS pets(id INTEGER PRIMARY KEY, \n",
    "                   name TEXT, animal TEXT)\n",
    "''')\n",
    "cursor.execute('''INSERT INTO pets values (1, 'Puppy', 'Gato')''')\n",
    "cursor.execute('''INSERT INTO pets values (2, 'Washington', 'Gato')''')\n",
    "cursor.execute('''INSERT INTO pets values (3, 'Laika', 'Conejo')''')\n",
    "cursor.execute('''INSERT INTO pets values (4, 'Mapa', 'Perro')''')\n",
    "db.commit()"
   ]
  },
  {
   "cell_type": "code",
   "execution_count": 12,
   "metadata": {},
   "outputs": [
    {
     "name": "stdout",
     "output_type": "stream",
     "text": [
      "   id              name  pet_id\n",
      "0   1   Francisco Perez       1\n",
      "1   2      Diego Abarca       2\n",
      "2   3       Jorge Barra       4\n",
      "3   4  Carlos Rodriguez       3\n",
      "\n",
      "\n",
      "   id        name  animal\n",
      "0   1       Puppy    Gato\n",
      "1   2  Washington    Gato\n",
      "2   3       Laika  Conejo\n",
      "3   4        Mapa   Perro\n",
      "\n",
      "\n",
      "         owner_name    pet_name  animal\n",
      "0   Francisco Perez       Puppy    Gato\n",
      "1      Diego Abarca  Washington    Gato\n",
      "2       Jorge Barra        Mapa   Perro\n",
      "3  Carlos Rodriguez       Laika  Conejo\n",
      "\n",
      "\n"
     ]
    }
   ],
   "source": [
    "query = '''\n",
    "        SELECT *\n",
    "        FROM owners\n",
    "        '''\n",
    "\n",
    "query_df = pd.read_sql_query(query, db)\n",
    "print(query_df.head())\n",
    "print('\\n')\n",
    "\n",
    "query = '''\n",
    "        SELECT *\n",
    "        FROM pets\n",
    "        '''\n",
    "\n",
    "query_df = pd.read_sql_query(query, db)\n",
    "print(query_df.head())\n",
    "print('\\n')\n",
    "\n",
    "\n",
    "query = '''\n",
    "        SELECT o.name AS owner_name,\n",
    "               p.name AS pet_name,\n",
    "               p.animal AS animal\n",
    "        FROM pets AS p\n",
    "        INNER JOIN owners AS o\n",
    "            ON p.id = o.pet_id\n",
    "        '''\n",
    "\n",
    "query_df = pd.read_sql_query(query, db)\n",
    "print(query_df.head())\n",
    "print('\\n')"
   ]
  },
  {
   "cell_type": "code",
   "execution_count": 13,
   "metadata": {},
   "outputs": [],
   "source": [
    "cursor.execute('''DROP TABLE pets''')\n",
    "cursor.execute('''DROP TABLE owners''')\n",
    "cursor.execute('''DROP TABLE pet_records''')\n",
    "db.commit()"
   ]
  },
  {
   "cell_type": "code",
   "execution_count": null,
   "metadata": {},
   "outputs": [],
   "source": []
  }
 ],
 "metadata": {
  "kernelspec": {
   "display_name": "Python 3",
   "language": "python",
   "name": "python3"
  },
  "language_info": {
   "codemirror_mode": {
    "name": "ipython",
    "version": 3
   },
   "file_extension": ".py",
   "mimetype": "text/x-python",
   "name": "python",
   "nbconvert_exporter": "python",
   "pygments_lexer": "ipython3",
   "version": "3.10.11"
  }
 },
 "nbformat": 4,
 "nbformat_minor": 2
}
