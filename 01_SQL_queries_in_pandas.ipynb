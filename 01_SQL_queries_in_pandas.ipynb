{
 "cells": [
  {
   "cell_type": "markdown",
   "metadata": {},
   "source": [
    "## When use SQL in pandas\n",
    "* Data fits in memory\n",
    "* Volume of data is not a performance issue\n",
    "* Don't need a fuly functional SQL Server database\n",
    "* On complex programs, SQL queries are much easy to read than a pandas code"
   ]
  },
  {
   "cell_type": "code",
   "execution_count": 3,
   "metadata": {},
   "outputs": [
    {
     "name": "stderr",
     "output_type": "stream",
     "text": [
      "Matplotlib is building the font cache; this may take a moment.\n",
      "Fontconfig warning: ignoring UTF-8: not a valid region tag\n"
     ]
    }
   ],
   "source": [
    "import pandas as pd\n",
    "from pandasql import sqldf"
   ]
  },
  {
   "cell_type": "code",
   "execution_count": 35,
   "metadata": {},
   "outputs": [
    {
     "data": {
      "text/html": [
       "<div>\n",
       "<style scoped>\n",
       "    .dataframe tbody tr th:only-of-type {\n",
       "        vertical-align: middle;\n",
       "    }\n",
       "\n",
       "    .dataframe tbody tr th {\n",
       "        vertical-align: top;\n",
       "    }\n",
       "\n",
       "    .dataframe thead th {\n",
       "        text-align: right;\n",
       "    }\n",
       "</style>\n",
       "<table border=\"1\" class=\"dataframe\">\n",
       "  <thead>\n",
       "    <tr style=\"text-align: right;\">\n",
       "      <th></th>\n",
       "      <th>id</th>\n",
       "      <th>name</th>\n",
       "      <th>host_id</th>\n",
       "      <th>host_name</th>\n",
       "      <th>neighbourhood_group</th>\n",
       "      <th>neighbourhood</th>\n",
       "      <th>latitude</th>\n",
       "      <th>longitude</th>\n",
       "      <th>room_type</th>\n",
       "      <th>price</th>\n",
       "      <th>minimum_nights</th>\n",
       "      <th>number_of_reviews</th>\n",
       "      <th>last_review</th>\n",
       "      <th>reviews_per_month</th>\n",
       "      <th>calculated_host_listings_count</th>\n",
       "      <th>availability_365</th>\n",
       "    </tr>\n",
       "  </thead>\n",
       "  <tbody>\n",
       "    <tr>\n",
       "      <th>0</th>\n",
       "      <td>2539</td>\n",
       "      <td>Clean &amp; quiet apt home by the park</td>\n",
       "      <td>2787</td>\n",
       "      <td>John</td>\n",
       "      <td>Brooklyn</td>\n",
       "      <td>Kensington</td>\n",
       "      <td>40.64749</td>\n",
       "      <td>-73.97237</td>\n",
       "      <td>Private room</td>\n",
       "      <td>149</td>\n",
       "      <td>1</td>\n",
       "      <td>9</td>\n",
       "      <td>2018-10-19</td>\n",
       "      <td>0.21</td>\n",
       "      <td>6</td>\n",
       "      <td>365</td>\n",
       "    </tr>\n",
       "    <tr>\n",
       "      <th>1</th>\n",
       "      <td>2595</td>\n",
       "      <td>Skylit Midtown Castle</td>\n",
       "      <td>2845</td>\n",
       "      <td>Jennifer</td>\n",
       "      <td>Manhattan</td>\n",
       "      <td>Midtown</td>\n",
       "      <td>40.75362</td>\n",
       "      <td>-73.98377</td>\n",
       "      <td>Entire home/apt</td>\n",
       "      <td>225</td>\n",
       "      <td>1</td>\n",
       "      <td>45</td>\n",
       "      <td>2019-05-21</td>\n",
       "      <td>0.38</td>\n",
       "      <td>2</td>\n",
       "      <td>355</td>\n",
       "    </tr>\n",
       "    <tr>\n",
       "      <th>2</th>\n",
       "      <td>3647</td>\n",
       "      <td>THE VILLAGE OF HARLEM....NEW YORK !</td>\n",
       "      <td>4632</td>\n",
       "      <td>Elisabeth</td>\n",
       "      <td>Manhattan</td>\n",
       "      <td>Harlem</td>\n",
       "      <td>40.80902</td>\n",
       "      <td>-73.94190</td>\n",
       "      <td>Private room</td>\n",
       "      <td>150</td>\n",
       "      <td>3</td>\n",
       "      <td>0</td>\n",
       "      <td>NaN</td>\n",
       "      <td>NaN</td>\n",
       "      <td>1</td>\n",
       "      <td>365</td>\n",
       "    </tr>\n",
       "    <tr>\n",
       "      <th>3</th>\n",
       "      <td>3831</td>\n",
       "      <td>Cozy Entire Floor of Brownstone</td>\n",
       "      <td>4869</td>\n",
       "      <td>LisaRoxanne</td>\n",
       "      <td>Brooklyn</td>\n",
       "      <td>Clinton Hill</td>\n",
       "      <td>40.68514</td>\n",
       "      <td>-73.95976</td>\n",
       "      <td>Entire home/apt</td>\n",
       "      <td>89</td>\n",
       "      <td>1</td>\n",
       "      <td>270</td>\n",
       "      <td>2019-07-05</td>\n",
       "      <td>4.64</td>\n",
       "      <td>1</td>\n",
       "      <td>194</td>\n",
       "    </tr>\n",
       "    <tr>\n",
       "      <th>4</th>\n",
       "      <td>5022</td>\n",
       "      <td>Entire Apt: Spacious Studio/Loft by central park</td>\n",
       "      <td>7192</td>\n",
       "      <td>Laura</td>\n",
       "      <td>Manhattan</td>\n",
       "      <td>East Harlem</td>\n",
       "      <td>40.79851</td>\n",
       "      <td>-73.94399</td>\n",
       "      <td>Entire home/apt</td>\n",
       "      <td>80</td>\n",
       "      <td>10</td>\n",
       "      <td>9</td>\n",
       "      <td>2018-11-19</td>\n",
       "      <td>0.10</td>\n",
       "      <td>1</td>\n",
       "      <td>0</td>\n",
       "    </tr>\n",
       "  </tbody>\n",
       "</table>\n",
       "</div>"
      ],
      "text/plain": [
       "     id                                              name  host_id   \n",
       "0  2539                Clean & quiet apt home by the park     2787  \\\n",
       "1  2595                             Skylit Midtown Castle     2845   \n",
       "2  3647               THE VILLAGE OF HARLEM....NEW YORK !     4632   \n",
       "3  3831                   Cozy Entire Floor of Brownstone     4869   \n",
       "4  5022  Entire Apt: Spacious Studio/Loft by central park     7192   \n",
       "\n",
       "     host_name neighbourhood_group neighbourhood  latitude  longitude   \n",
       "0         John            Brooklyn    Kensington  40.64749  -73.97237  \\\n",
       "1     Jennifer           Manhattan       Midtown  40.75362  -73.98377   \n",
       "2    Elisabeth           Manhattan        Harlem  40.80902  -73.94190   \n",
       "3  LisaRoxanne            Brooklyn  Clinton Hill  40.68514  -73.95976   \n",
       "4        Laura           Manhattan   East Harlem  40.79851  -73.94399   \n",
       "\n",
       "         room_type  price  minimum_nights  number_of_reviews last_review   \n",
       "0     Private room    149               1                  9  2018-10-19  \\\n",
       "1  Entire home/apt    225               1                 45  2019-05-21   \n",
       "2     Private room    150               3                  0         NaN   \n",
       "3  Entire home/apt     89               1                270  2019-07-05   \n",
       "4  Entire home/apt     80              10                  9  2018-11-19   \n",
       "\n",
       "   reviews_per_month  calculated_host_listings_count  availability_365  \n",
       "0               0.21                               6               365  \n",
       "1               0.38                               2               355  \n",
       "2                NaN                               1               365  \n",
       "3               4.64                               1               194  \n",
       "4               0.10                               1                 0  "
      ]
     },
     "execution_count": 35,
     "metadata": {},
     "output_type": "execute_result"
    }
   ],
   "source": [
    "airbnb = pd.read_csv('data/AB_NYC_2019.csv')\n",
    "airbnb.head()"
   ]
  },
  {
   "cell_type": "markdown",
   "metadata": {},
   "source": [
    "### Basics with SQL queries"
   ]
  },
  {
   "cell_type": "code",
   "execution_count": 15,
   "metadata": {},
   "outputs": [
    {
     "name": "stdout",
     "output_type": "stream",
     "text": [
      "                                               name neighbourhood_group\n",
      "0                Clean & quiet apt home by the park            Brooklyn\n",
      "1                             Skylit Midtown Castle           Manhattan\n",
      "2               THE VILLAGE OF HARLEM....NEW YORK !           Manhattan\n",
      "3                   Cozy Entire Floor of Brownstone            Brooklyn\n",
      "4  Entire Apt: Spacious Studio/Loft by central park           Manhattan\n",
      "<class 'pandas.core.frame.DataFrame'>\n"
     ]
    }
   ],
   "source": [
    "query = '''SELECT name, neighbourhood_group \n",
    "            FROM airbnb \n",
    "            LIMIT 5'''\n",
    "\n",
    "# Pandas equivalent\n",
    "# print(airbnb[['name', 'neighbourhood_group']].head(5))\n",
    "\n",
    "print(sqldf(query))\n",
    "print(type(sqldf(query)))"
   ]
  },
  {
   "cell_type": "markdown",
   "metadata": {},
   "source": [
    "Above, we extracted information about the name and neighbourhood of the first five items from the airbnb dataframe. Note that running the sqldf function returns a pandas dataframe"
   ]
  },
  {
   "cell_type": "code",
   "execution_count": 16,
   "metadata": {},
   "outputs": [
    {
     "name": "stdout",
     "output_type": "stream",
     "text": [
      "  neighbourhood_group\n",
      "0            Brooklyn\n",
      "1           Manhattan\n",
      "2              Queens\n",
      "3       Staten Island\n",
      "4               Bronx\n"
     ]
    }
   ],
   "source": [
    "query = '''SELECT DISTINCT neighbourhood_group \n",
    "            FROM airbnb'''\n",
    "\n",
    "# Pandas equivalent\n",
    "# print(airbnb['neighbourhood_group'].unique())\n",
    "\n",
    "print(sqldf(query))"
   ]
  },
  {
   "cell_type": "markdown",
   "metadata": {},
   "source": [
    "### Sorting data"
   ]
  },
  {
   "cell_type": "code",
   "execution_count": 20,
   "metadata": {},
   "outputs": [
    {
     "name": "stdout",
     "output_type": "stream",
     "text": [
      "                                                name  price\n",
      "0                Furnished room in Astoria apartment  10000\n",
      "1    Luxury 1 bedroom apt. -stunning Manhattan views  10000\n",
      "2                                1-BR Lincoln Center  10000\n",
      "3  2br - The Heart of NYC: Manhattans Lower East ...   9999\n",
      "4                Quiet, Clean, Lit @ LES & Chinatown   9999\n",
      "                                              name  price\n",
      "0              Furnished room in Astoria apartment  10000\n",
      "1  Luxury 1 bedroom apt. -stunning Manhattan views  10000\n",
      "2                              1-BR Lincoln Center  10000\n",
      "3                               Spanish Harlem Apt   9999\n",
      "4              Quiet, Clean, Lit @ LES & Chinatown   9999\n"
     ]
    }
   ],
   "source": [
    "query = '''SELECT name, price\n",
    "            FROM airbnb\n",
    "            ORDER BY price DESC \n",
    "            LIMIT 5'''\n",
    "\n",
    "# Pandas equivalent\n",
    "# print(airbnb[['name', 'price']].sort_values(by=['price'], ascending=False, ignore_index=True).head(5))\n",
    "\n",
    "print(sqldf(query))"
   ]
  },
  {
   "cell_type": "markdown",
   "metadata": {},
   "source": [
    "### Filtering data"
   ]
  },
  {
   "cell_type": "code",
   "execution_count": 29,
   "metadata": {},
   "outputs": [
    {
     "name": "stdout",
     "output_type": "stream",
     "text": [
      "  neighbourhood_group\n",
      "0           Manhattan\n",
      "1            Brooklyn\n",
      "2              Queens\n",
      "3               Bronx\n"
     ]
    }
   ],
   "source": [
    "query = '''SELECT DISTINCT neighbourhood_group\n",
    "            FROM airbnb \n",
    "            WHERE room_type = 'Private room'\n",
    "               AND price > 900'''\n",
    "\n",
    "# Pandas equivalent\n",
    "# print(airbnb[(airbnb['room_type'] == 'Private room') & (airbnb['price'] > 900)]['neighbourhood_group'].unique())\n",
    "\n",
    "print(sqldf(query))\n"
   ]
  },
  {
   "cell_type": "markdown",
   "metadata": {},
   "source": [
    "### Grouping and aggregating data "
   ]
  },
  {
   "cell_type": "code",
   "execution_count": 32,
   "metadata": {},
   "outputs": [
    {
     "name": "stdout",
     "output_type": "stream",
     "text": [
      "  neighbourhood_group  MAX(price)\n",
      "0               Bronx        2500\n",
      "1            Brooklyn       10000\n",
      "2           Manhattan       10000\n",
      "3              Queens       10000\n",
      "4       Staten Island        5000\n"
     ]
    }
   ],
   "source": [
    "query = '''SELECT neighbourhood_group, MAX(price)\n",
    "            FROM airbnb \n",
    "            GROUP BY neighbourhood_group'''\n",
    "\n",
    "# Pandas equivalent\n",
    "# print(airbnb[['neighbourhood_group', 'price']].groupby('neighbourhood_group', as_index=False).max())\n",
    "\n",
    "print(sqldf(query))\n",
    "\n"
   ]
  },
  {
   "cell_type": "markdown",
   "metadata": {},
   "source": [
    "### Performing mathematical operations"
   ]
  },
  {
   "cell_type": "code",
   "execution_count": 34,
   "metadata": {},
   "outputs": [
    {
     "name": "stdout",
     "output_type": "stream",
     "text": [
      "0    1170000\n",
      "1    1000000\n",
      "2     989901\n",
      "3     857750\n",
      "4     730000\n",
      "Name: minimum_payment, dtype: int64\n",
      "   minimum_payment\n",
      "0          1170000\n",
      "1          1000000\n",
      "2           989901\n",
      "3           857750\n",
      "4           730000\n"
     ]
    }
   ],
   "source": [
    "query = '''SELECT price * minimum_nights AS minimum_payment\n",
    "            FROM airbnb\n",
    "            ORDER BY minimum_payment DESC\n",
    "            LIMIT 5'''\n",
    "\n",
    "# Pandas equivalent\n",
    "# airbnb['minimum_payment'] = airbnb['price'] * airbnb['minimum_nights']\n",
    "# print(airbnb['minimum_payment'].sort_values(ascending=False, ignore_index=True).head())\n",
    "\n",
    "print(sqldf(query))\n"
   ]
  },
  {
   "cell_type": "code",
   "execution_count": null,
   "metadata": {},
   "outputs": [],
   "source": []
  }
 ],
 "metadata": {
  "kernelspec": {
   "display_name": "Python 3",
   "language": "python",
   "name": "python3"
  },
  "language_info": {
   "codemirror_mode": {
    "name": "ipython",
    "version": 3
   },
   "file_extension": ".py",
   "mimetype": "text/x-python",
   "name": "python",
   "nbconvert_exporter": "python",
   "pygments_lexer": "ipython3",
   "version": "3.10.11"
  }
 },
 "nbformat": 4,
 "nbformat_minor": 2
}
